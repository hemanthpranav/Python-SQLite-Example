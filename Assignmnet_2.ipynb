{
  "nbformat": 4,
  "nbformat_minor": 0,
  "metadata": {
    "colab": {
      "provenance": [],
      "authorship_tag": "ABX9TyP8ny7xYztfyM10wdOcbvjQ",
      "include_colab_link": true
    },
    "kernelspec": {
      "name": "python3",
      "display_name": "Python 3"
    },
    "language_info": {
      "name": "python"
    }
  },
  "cells": [
    {
      "cell_type": "markdown",
      "metadata": {
        "id": "view-in-github",
        "colab_type": "text"
      },
      "source": [
        "<a href=\"https://colab.research.google.com/github/hemanthpranav/Python-SQLite-Example/blob/main/Assignmnet_2.ipynb\" target=\"_parent\"><img src=\"https://colab.research.google.com/assets/colab-badge.svg\" alt=\"Open In Colab\"/></a>"
      ]
    },
    {
      "cell_type": "markdown",
      "source": [],
      "metadata": {
        "id": "M11TsXZBoANT"
      }
    },
    {
      "cell_type": "code",
      "execution_count": 1,
      "metadata": {
        "id": "zvHCeEByvUMo"
      },
      "outputs": [],
      "source": [
        "import sqlite3"
      ]
    },
    {
      "cell_type": "code",
      "source": [
        "#Create a Database\n",
        "connection = sqlite3.connect('StudentsDATA.db')"
      ],
      "metadata": {
        "id": "t489cd7dvlAm"
      },
      "execution_count": 2,
      "outputs": []
    },
    {
      "cell_type": "code",
      "source": [
        "#creating a cursor Object to interact with the database\n",
        "cursor = connection.cursor()\n"
      ],
      "metadata": {
        "id": "zWSJcREgv3MM"
      },
      "execution_count": 3,
      "outputs": []
    },
    {
      "cell_type": "code",
      "source": [
        "#Creating a Table\n",
        "\n",
        "cursor.execute(\"CREATE TABLE students(ID INTEGER PRIMARY KEY,NAME TEXT,COURSE VARCHAR,COURSE_INTAKE TEXT)\")"
      ],
      "metadata": {
        "colab": {
          "base_uri": "https://localhost:8080/"
        },
        "id": "3Q9lrtHWv6E6",
        "outputId": "ce401183-3fc1-4127-9590-fea14a49dee3"
      },
      "execution_count": 4,
      "outputs": [
        {
          "output_type": "execute_result",
          "data": {
            "text/plain": [
              "<sqlite3.Cursor at 0x7f22b560f8c0>"
            ]
          },
          "metadata": {},
          "execution_count": 4
        }
      ]
    },
    {
      "cell_type": "code",
      "source": [
        "#Inserting Data\n",
        "\n",
        "cursor.execute(\"\"\"INSERT INTO students(ID,NAME,COURSE,COURSE_INTAKE)\n",
        " VALUES(369,\"TOM SAWYER\",\"Computer Science\",\"Fall\"),\n",
        "  (999,\"CHARLES DICKENS\",\"DATA SCIENCE\",\"SPRING\"),\n",
        "  (693,\"ZACK SNYDER\",\"FILMMAKING\",\"SUMMER\")\"\"\")"
      ],
      "metadata": {
        "colab": {
          "base_uri": "https://localhost:8080/"
        },
        "id": "R94mcQ-Jwk4F",
        "outputId": "268a135a-5db5-49a1-9c32-2b750627af00"
      },
      "execution_count": 5,
      "outputs": [
        {
          "output_type": "execute_result",
          "data": {
            "text/plain": [
              "<sqlite3.Cursor at 0x7f22b560f8c0>"
            ]
          },
          "metadata": {},
          "execution_count": 5
        }
      ]
    },
    {
      "cell_type": "code",
      "source": [
        "#Retrieving Data by fetching using fetchall()\n",
        "\n",
        "cursor.execute(\"SELECT * FROM students\")\n",
        "rows = cursor.fetchall()\n",
        "for row in rows:\n",
        "  print(row)"
      ],
      "metadata": {
        "colab": {
          "base_uri": "https://localhost:8080/"
        },
        "id": "_nIHogLTy7Y1",
        "outputId": "e4474584-3d7d-4376-d8aa-d8fe1ace3d13"
      },
      "execution_count": 6,
      "outputs": [
        {
          "output_type": "stream",
          "name": "stdout",
          "text": [
            "(369, 'TOM SAWYER', 'Computer Science', 'Fall')\n",
            "(693, 'ZACK SNYDER', 'FILMMAKING', 'SUMMER')\n",
            "(999, 'CHARLES DICKENS', 'DATA SCIENCE', 'SPRING')\n"
          ]
        }
      ]
    },
    {
      "cell_type": "code",
      "source": [
        "#Committing Changes using connection.commit()\n",
        "\n",
        "connection.commit()"
      ],
      "metadata": {
        "id": "YO7CtTsPzjk6"
      },
      "execution_count": 7,
      "outputs": []
    },
    {
      "cell_type": "code",
      "source": [
        "#Raising Execptions if there is a issue with SQL command\n",
        "# using try and except block commands\n",
        "# an non existant table like \"\"\"\"laptop_database\"\"\"\n",
        "try:\n",
        "  cursor.execute(\"SELECT * FROM laptop_database\")\n",
        "except sqlite3.OperationalError as e:\n",
        "  print(f\"An error occured: {e}\")"
      ],
      "metadata": {
        "colab": {
          "base_uri": "https://localhost:8080/"
        },
        "id": "AZO34kvZzuyy",
        "outputId": "e144971a-5eaa-4df0-9039-bcd3c91f0c6e"
      },
      "execution_count": 8,
      "outputs": [
        {
          "output_type": "stream",
          "name": "stdout",
          "text": [
            "An error occured: no such table: laptop_database\n"
          ]
        }
      ]
    },
    {
      "cell_type": "code",
      "source": [
        "#Preventing SQL injection attacks by using Parameterized queries\n",
        "\n",
        "cursor.execute(\"INSERT INTO students (ID,NAME,COURSE,COURSE_INTAKE) VALUES (?,?,?,?)\",(963,\"HANS ZIMMER\",\"MUSIC & ARTS\",\"ONLINE\"))"
      ],
      "metadata": {
        "colab": {
          "base_uri": "https://localhost:8080/"
        },
        "id": "xvmxN_da1Csh",
        "outputId": "6a097b3b-429c-4d8a-cd02-fd840ccfe233"
      },
      "execution_count": 9,
      "outputs": [
        {
          "output_type": "execute_result",
          "data": {
            "text/plain": [
              "<sqlite3.Cursor at 0x7f22b560f8c0>"
            ]
          },
          "metadata": {},
          "execution_count": 9
        }
      ]
    },
    {
      "cell_type": "code",
      "source": [
        "#Retrieving Data by fetching using fetchall()\n",
        "\n",
        "cursor.execute(\"SELECT * FROM students\")\n",
        "rows = cursor.fetchall()\n",
        "for row in rows:\n",
        "  print(row)"
      ],
      "metadata": {
        "colab": {
          "base_uri": "https://localhost:8080/"
        },
        "id": "uvhFaYKb1fep",
        "outputId": "1706108e-cf0c-4ac9-ab78-64054e4e89c0"
      },
      "execution_count": 10,
      "outputs": [
        {
          "output_type": "stream",
          "name": "stdout",
          "text": [
            "(369, 'TOM SAWYER', 'Computer Science', 'Fall')\n",
            "(693, 'ZACK SNYDER', 'FILMMAKING', 'SUMMER')\n",
            "(963, 'HANS ZIMMER', 'MUSIC & ARTS', 'ONLINE')\n",
            "(999, 'CHARLES DICKENS', 'DATA SCIENCE', 'SPRING')\n"
          ]
        }
      ]
    },
    {
      "cell_type": "code",
      "source": [
        "#transcations\n"
      ],
      "metadata": {
        "id": "yJOL4i241n5g"
      },
      "execution_count": 11,
      "outputs": []
    },
    {
      "cell_type": "code",
      "source": [
        "con = sqlite3.connect(\"StudentsDATA.db\")\n",
        "with con:\n",
        "    connection.row_factory = sqlite3.Row\n",
        "    cur1 = connection.cursor()\n",
        "    stu = cur1.execute(\"SELECT * from students\").fetchall()\n",
        "    print(stu)"
      ],
      "metadata": {
        "colab": {
          "base_uri": "https://localhost:8080/"
        },
        "id": "WqYb8dy4rack",
        "outputId": "34da1ca5-6ef4-4d7a-8c6a-547d060e861f"
      },
      "execution_count": 25,
      "outputs": [
        {
          "output_type": "stream",
          "name": "stdout",
          "text": [
            "[<sqlite3.Row object at 0x7f22b4915e40>, <sqlite3.Row object at 0x7f22b49172e0>, <sqlite3.Row object at 0x7f22b4916290>, <sqlite3.Row object at 0x7f22b4916680>]\n"
          ]
        }
      ]
    },
    {
      "cell_type": "code",
      "source": [
        "connection.close()\n"
      ],
      "metadata": {
        "id": "siP-mLlFuiHc"
      },
      "execution_count": 28,
      "outputs": []
    }
  ]
}